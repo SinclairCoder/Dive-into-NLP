{
 "cells": [
  {
   "cell_type": "code",
   "execution_count": 23,
   "metadata": {
    "uuid": "5d77fa95-9fc5-4d62-a984-eddf832e1872"
   },
   "outputs": [],
   "source": [
    "import pandas as pd\n",
    "import numpy as np\n",
    "import fasttext\n",
    "from sklearn.metrics import f1_score\n",
    "from sklearn.model_selection import cross_val_score"
   ]
  },
  {
   "cell_type": "code",
   "execution_count": 8,
   "metadata": {
    "uuid": "2e059cd0-52ed-4aaa-ad50-d8480f8956a1"
   },
   "outputs": [],
   "source": [
    "train_df = pd.read_csv('train_set.csv',sep='\\t')"
   ]
  },
  {
   "cell_type": "code",
   "execution_count": 22,
   "metadata": {
    "uuid": "60919324-98f5-49d2-b659-43ae5b7bb92c"
   },
   "outputs": [],
   "source": [
    "test_df = pd.read_csv('test_a.csv',sep='\\t')\n",
    "sub_df = pd.read_csv('test_a_sample_submit.csv',sep='\\t')"
   ]
  },
  {
   "cell_type": "code",
   "execution_count": 19,
   "metadata": {
    "uuid": "50f58dba-980e-4579-9774-5060598e7c47"
   },
   "outputs": [],
   "source": [
    "train_df['label_ft'] = '__label__'+train_df['label'].astype(str)\n",
    "# train_df[['text','label_ft']].iloc[:-5000].to_csv('train.csv',index=None,header=None,sep='\\t')"
   ]
  },
  {
   "cell_type": "code",
   "execution_count": 11,
   "metadata": {
    "uuid": "6926dda0-10c2-452c-a71c-02eaa1c07893"
   },
   "outputs": [],
   "source": [
    "train_df[['text','label_ft']].to_csv('trainall.csv',index=None,header=None,sep='\\t')"
   ]
  },
  {
   "cell_type": "code",
   "execution_count": 3,
   "metadata": {
    "uuid": "e1d2fc5c-82a4-4f86-9154-21705d969c7b"
   },
   "outputs": [
    {
     "data": {
      "text/plain": [
       "(9999, 2)"
      ]
     },
     "execution_count": 3,
     "metadata": {},
     "output_type": "execute_result"
    }
   ],
   "source": [
    "train = pd.read_csv('train.csv',sep='\\t')\n",
    "train.shape"
   ]
  },
  {
   "cell_type": "code",
   "execution_count": 20,
   "metadata": {
    "uuid": "9acd3c29-c51d-415e-878b-4cc51d9f34c3"
   },
   "outputs": [],
   "source": [
    "model = fasttext.train_supervised('trainall.csv',lr=1.0,dim=100,wordNgrams=2,verbose=2,minCount=1,epoch=25,loss=\"hs\")"
   ]
  },
  {
   "cell_type": "code",
   "execution_count": 21,
   "metadata": {
    "uuid": "dd37d65c-ab0e-46d2-92ec-1b0a5dc97267"
   },
   "outputs": [
    {
     "name": "stdout",
     "output_type": "stream",
     "text": [
      "0.9970931123720022\n"
     ]
    }
   ],
   "source": [
    "val_pred = [model.predict(x)[0][0].split('__')[-1] for x in train_df1w5.iloc[-5000:]['text']]\n",
    "print(f1_score(train_df1w5['label'].values[-5000:].astype(str),val_pred,average='macro'))"
   ]
  },
  {
   "cell_type": "code",
   "execution_count": 13,
   "metadata": {
    "uuid": "1db48015-8188-4749-92cb-37fbbed2de5b"
   },
   "outputs": [],
   "source": [
    "train_df1w5 = pd.read_csv('train_set.csv',sep='\\t',nrows=15000)"
   ]
  },
  {
   "cell_type": "code",
   "execution_count": null,
   "metadata": {
    "uuid": "53f40cbc-5c33-4d16-8a15-833d50f0f443"
   },
   "outputs": [],
   "source": []
  }
 ],
 "metadata": {
  "kernelspec": {
   "display_name": "PyTorch",
   "language": "python",
   "name": "pytorch"
  },
  "language_info": {
   "codemirror_mode": {
    "name": "ipython",
    "version": 3
   },
   "file_extension": ".py",
   "mimetype": "text/x-python",
   "name": "python",
   "nbconvert_exporter": "python",
   "pygments_lexer": "ipython3",
   "version": "3.6.4"
  }
 },
 "nbformat": 4,
 "nbformat_minor": 2
}
