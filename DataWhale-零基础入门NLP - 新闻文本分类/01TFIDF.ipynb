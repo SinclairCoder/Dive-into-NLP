{
 "cells": [
  {
   "cell_type": "code",
   "execution_count": null,
   "metadata": {
    "uuid": "7cb2a237-90a8-4915-876e-fe14e4d31692"
   },
   "outputs": [],
   "source": [
    "import numpy as np\n",
    "import pandas as pd\n",
    "import matplotlib.pyplot as plt\n",
    "from collections import Counter\n",
    "from sklearn.feature_extraction.text import CountVectorizer\n",
    "from sklearn.model_selection import train_test_split\n",
    "from sklearn.linear_model import RidgeClassifier\n",
    "from sklearn.metrics import f1_score\n",
    "from sklearn.linear_model import LogisticRegression\n",
    "from sklearn.feature_extraction.text import TfidfVectorizer\n",
    "from sklearn.metrics import classification_report\n",
    "from sklearn.model_selection import cross_val_score\n",
    "\n",
    "SEED = 2020\n",
    "TRAIN_LEN = 180000\n",
    "MAX_FEATURES = 3000"
   ]
  },
  {
   "cell_type": "code",
   "execution_count": 4,
   "metadata": {
    "uuid": "5fb572c8-448a-48a6-992e-7a44777013fc"
   },
   "outputs": [],
   "source": [
    "train_df = pd.read_csv('train_set.csv',sep='\\t',nrows=200000)\n",
    "test_df = pd.read_csv('test_a.csv',sep='\\t')\n",
    "sub_df = pd.read_csv('test_a_sample_submit.csv',sep='\\t')"
   ]
  },
  {
   "cell_type": "code",
   "execution_count": 5,
   "metadata": {
    "uuid": "a719ec37-2827-4806-ab0a-6d7009674286"
   },
   "outputs": [],
   "source": [
    "tfidf = TfidfVectorizer(max_features=3000) # ngram_range=(1,3), \n",
    "train_val = tfidf.fit_transform(train_df['text'])"
   ]
  },
  {
   "cell_type": "code",
   "execution_count": 6,
   "metadata": {
    "uuid": "43d809cd-ac29-4436-a98a-df587f266d6e"
   },
   "outputs": [
    {
     "name": "stderr",
     "output_type": "stream",
     "text": [
      "/home/admin/.local/lib/python3.6/site-packages/sklearn/linear_model/_sag.py:330: ConvergenceWarning: The max_iter was reached which means the coef_ did not converge\n",
      "  \"the coef_ did not converge\", ConvergenceWarning)\n"
     ]
    },
    {
     "data": {
      "text/plain": [
       "LogisticRegression(class_weight='balanced', multi_class='multinomial',\n",
       "                   n_jobs=-1, solver='sag')"
      ]
     },
     "execution_count": 6,
     "metadata": {},
     "output_type": "execute_result"
    }
   ],
   "source": [
    "clf_tfidf = LogisticRegression(penalty='l2',solver='sag',class_weight='balanced',multi_class='multinomial',n_jobs=-1)\n",
    "clf_tfidf.fit(train_val[:TRAIN_LEN], train_df['label'].values[:TRAIN_LEN])"
   ]
  },
  {
   "cell_type": "code",
   "execution_count": 7,
   "metadata": {
    "uuid": "de1c8c38-1542-47de-ab75-f2cd49052702"
   },
   "outputs": [
    {
     "name": "stdout",
     "output_type": "stream",
     "text": [
      "0.8505738412407676\n"
     ]
    }
   ],
   "source": [
    "val_pred_tfidf = clf_tfidf.predict(train_val[TRAIN_LEN:])\n",
    "print(f1_score(train_df['label'].values[TRAIN_LEN:], val_pred_tfidf, average='macro'))"
   ]
  },
  {
   "cell_type": "code",
   "execution_count": 9,
   "metadata": {
    "uuid": "be310137-92d1-44db-abd4-6f391bca1bb5"
   },
   "outputs": [
    {
     "name": "stdout",
     "output_type": "stream",
     "text": [
      "              precision    recall  f1-score   support\n",
      "\n",
      "           0       0.94      0.82      0.87     37222\n",
      "           1       0.92      0.87      0.89     35272\n",
      "           2       0.98      0.94      0.96     30006\n",
      "           3       0.91      0.91      0.91     21150\n",
      "           4       0.77      0.89      0.83     14304\n",
      "           5       0.78      0.86      0.82     11682\n",
      "           6       0.89      0.91      0.90      9532\n",
      "           7       0.77      0.86      0.81      8460\n",
      "           8       0.81      0.88      0.84      7473\n",
      "           9       0.78      0.90      0.84      5594\n",
      "          10       0.83      0.88      0.85      4713\n",
      "          11       0.78      0.88      0.83      2990\n",
      "          12       0.77      0.94      0.84      1743\n",
      "          13       0.58      0.91      0.71       859\n",
      "\n",
      "    accuracy                           0.88    191000\n",
      "   macro avg       0.82      0.89      0.85    191000\n",
      "weighted avg       0.89      0.88      0.88    191000\n",
      "\n"
     ]
    }
   ],
   "source": [
    "print(classification_report(train_df['label'].values[TRAIN_LEN:], val_pred_tfidf)) "
   ]
  },
  {
   "cell_type": "code",
   "execution_count": null,
   "metadata": {
    "uuid": "4f1d25d1-7f79-4217-a8ce-3dbbca752207"
   },
   "outputs": [],
   "source": [
    "scores = cross_val_score(clf_tfidf, train_val[TRAIN_LEN:] , train_df['label'].values[TRAIN_LEN:], cv=5)\n",
    "scores.mean()"
   ]
  },
  {
   "cell_type": "code",
   "execution_count": null,
   "metadata": {
    "uuid": "78935f1d-831c-4af1-9ba1-d07d9aab4d82"
   },
   "outputs": [],
   "source": [
    "sub_df_X = tfidf.transform(test_df['text'])\n",
    "pred_y = clf.predict(sub_df_X)\n",
    "sub_df['label'] = pred_y"
   ]
  }
 ],
 "metadata": {
  "kernelspec": {
   "display_name": "Python 3",
   "language": "python",
   "name": "python3"
  },
  "language_info": {
   "codemirror_mode": {
    "name": "ipython",
    "version": 3
   },
   "file_extension": ".py",
   "mimetype": "text/x-python",
   "name": "python",
   "nbconvert_exporter": "python",
   "pygments_lexer": "ipython3",
   "version": "3.6.4"
  }
 },
 "nbformat": 4,
 "nbformat_minor": 4
}
