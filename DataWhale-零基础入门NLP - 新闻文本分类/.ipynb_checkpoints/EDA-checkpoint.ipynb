{
 "cells": [
  {
   "cell_type": "code",
   "execution_count": null,
   "metadata": {
    "uuid": "8aba4ac8-7082-4927-a3dd-5117729f8b6d"
   },
   "outputs": [],
   "source": [
    "import numpy as np\n",
    "import pandas as pd\n",
    "import matplotlib.pyplot as plt\n",
    "from collections import Counter"
   ]
  },
  {
   "cell_type": "code",
   "execution_count": 3,
   "metadata": {
    "uuid": "46b2bb38-67bf-431f-92b7-863283274550"
   },
   "outputs": [],
   "source": [
    "train_df = pd.read_csv('train_set.csv',sep='\\t')"
   ]
  },
  {
   "cell_type": "code",
   "execution_count": 4,
   "metadata": {
    "uuid": "626e978e-313e-43f3-a475-6caf88315830"
   },
   "outputs": [
    {
     "data": {
      "text/plain": [
       "(5750, 2)"
      ]
     },
     "execution_count": 4,
     "metadata": {},
     "output_type": "execute_result"
    }
   ],
   "source": [
    "train_df.shape"
   ]
  },
  {
   "cell_type": "code",
   "execution_count": 5,
   "metadata": {
    "uuid": "01a1960e-e5a1-4edc-9781-79f21141976c"
   },
   "outputs": [
    {
     "data": {
      "text/html": [
       "<div>\n",
       "<style scoped>\n",
       "    .dataframe tbody tr th:only-of-type {\n",
       "        vertical-align: middle;\n",
       "    }\n",
       "\n",
       "    .dataframe tbody tr th {\n",
       "        vertical-align: top;\n",
       "    }\n",
       "\n",
       "    .dataframe thead th {\n",
       "        text-align: right;\n",
       "    }\n",
       "</style>\n",
       "<table border=\"1\" class=\"dataframe\">\n",
       "  <thead>\n",
       "    <tr style=\"text-align: right;\">\n",
       "      <th></th>\n",
       "      <th>label</th>\n",
       "      <th>text</th>\n",
       "    </tr>\n",
       "  </thead>\n",
       "  <tbody>\n",
       "    <tr>\n",
       "      <th>0</th>\n",
       "      <td>2</td>\n",
       "      <td>2967 6758 339 2021 1854 3731 4109 3792 4149 15...</td>\n",
       "    </tr>\n",
       "    <tr>\n",
       "      <th>1</th>\n",
       "      <td>11</td>\n",
       "      <td>4464 486 6352 5619 2465 4802 1452 3137 5778 54...</td>\n",
       "    </tr>\n",
       "    <tr>\n",
       "      <th>2</th>\n",
       "      <td>3</td>\n",
       "      <td>7346 4068 5074 3747 5681 6093 1777 2226 7354 6...</td>\n",
       "    </tr>\n",
       "    <tr>\n",
       "      <th>3</th>\n",
       "      <td>2</td>\n",
       "      <td>7159 948 4866 2109 5520 2490 211 3956 5520 549...</td>\n",
       "    </tr>\n",
       "    <tr>\n",
       "      <th>4</th>\n",
       "      <td>3</td>\n",
       "      <td>3646 3055 3055 2490 4659 6065 3370 5814 2465 5...</td>\n",
       "    </tr>\n",
       "  </tbody>\n",
       "</table>\n",
       "</div>"
      ],
      "text/plain": [
       "   label                                               text\n",
       "0      2  2967 6758 339 2021 1854 3731 4109 3792 4149 15...\n",
       "1     11  4464 486 6352 5619 2465 4802 1452 3137 5778 54...\n",
       "2      3  7346 4068 5074 3747 5681 6093 1777 2226 7354 6...\n",
       "3      2  7159 948 4866 2109 5520 2490 211 3956 5520 549...\n",
       "4      3  3646 3055 3055 2490 4659 6065 3370 5814 2465 5..."
      ]
     },
     "execution_count": 5,
     "metadata": {},
     "output_type": "execute_result"
    }
   ],
   "source": [
    "train_df.head()"
   ]
  },
  {
   "cell_type": "code",
   "execution_count": 9,
   "metadata": {
    "uuid": "8edde1de-f0f1-4e81-99f0-d6e5b344a73b"
   },
   "outputs": [
    {
     "name": "stdout",
     "output_type": "stream",
     "text": [
      "count     5750.000000\n",
      "mean       902.445739\n",
      "std        864.985348\n",
      "min         21.000000\n",
      "25%        379.000000\n",
      "50%        675.000000\n",
      "75%       1130.500000\n",
      "max      12211.000000\n",
      "Name: text_len, dtype: float64\n"
     ]
    }
   ],
   "source": [
    "train_df['text_len'] = train_df['text'].apply(lambda x:len(x.split(' ')))\n",
    "print(train_df['text_len'].describe())"
   ]
  },
  {
   "cell_type": "code",
   "execution_count": 13,
   "metadata": {
    "uuid": "32517bec-491f-40cc-9f4c-bd295e9b05ca"
   },
   "outputs": [
    {
     "data": {
      "text/plain": [
       "Text(0.5, 1.0, 'Histogram of char count')"
      ]
     },
     "execution_count": 13,
     "metadata": {},
     "output_type": "execute_result"
    },
    {
     "data": {
      "image/png": "[encoded data removed]",
      "text/plain": [
       "<Figure size 432x288 with 1 Axes>"
      ]
     },
     "metadata": {
      "needs_background": "light"
     },
     "output_type": "display_data"
    }
   ],
   "source": [
    "plt.hist(train_df['text_len'],bins=50)\n",
    "plt.xlabel('Text char count')\n",
    "plt.title(\"Histogram of char count\")"
   ]
  },
  {
   "cell_type": "code",
   "execution_count": 14,
   "metadata": {
    "uuid": "c9937ac5-50ef-43f8-93a7-573d357965e8"
   },
   "outputs": [
    {
     "data": {
      "text/plain": [
       "<matplotlib.axes._subplots.AxesSubplot at 0x7f73913ed240>"
      ]
     },
     "execution_count": 14,
     "metadata": {},
     "output_type": "execute_result"
    },
    {
     "data": {
      "image/png": "[encoded data removed]",
      "text/plain": [
       "<Figure size 432x288 with 1 Axes>"
      ]
     },
     "metadata": {
      "needs_background": "light"
     },
     "output_type": "display_data"
    }
   ],
   "source": [
    "train_df['label'].value_counts().plot(kind='bar')"
   ]
  },
  {
   "cell_type": "code",
   "execution_count": 17,
   "metadata": {
    "uuid": "0f6adea8-286c-4d46-ac4e-e5fe6cb1c56e"
   },
   "outputs": [],
   "source": [
    "all_lines = ' '.join(list(train_df['text']))\n",
    "word_count = Counter(all_lines.split(\" \"))\n",
    "# reverse = True 降序 \n",
    "word_count = sorted(word_count.items(),key= lambda d:d[1],reverse = True)"
   ]
  },
  {
   "cell_type": "code",
   "execution_count": 21,
   "metadata": {
    "uuid": "b02eee74-b306-4abd-b603-3ce49f7861a4"
   },
   "outputs": [
    {
     "data": {
      "text/plain": [
       "[('3750', 216107),\n",
       " ('648', 140549),\n",
       " ('900', 93683),\n",
       " ('3370', 56552),\n",
       " ('6122', 46538),\n",
       " ('4464', 43158),\n",
       " ('7399', 41280),\n",
       " ('4939', 39397),\n",
       " ('3659', 34566),\n",
       " ('4811', 33071)]"
      ]
     },
     "execution_count": 21,
     "metadata": {},
     "output_type": "execute_result"
    }
   ],
   "source": [
    "word_count[:10]"
   ]
  },
  {
   "cell_type": "markdown",
   "metadata": {
    "cellType": "markdown",
    "uuid": "50ad5cf3-7ec4-4fc3-9860-a23335d8fa28"
   },
   "source": [
    "这里还可以根据字在每个句子的出现情况，反推出标点符号。下面代码统计了不同字符在句子中出现的次数，其中字符3750，字符900和字符648在20w新闻的覆盖率接近99%，很有可能是标点符号。"
   ]
  },
  {
   "cell_type": "markdown",
   "metadata": {
    "cellType": "markdown",
    "uuid": "1bd86270-83cb-4773-99a0-d5a0918bbd3d"
   },
   "source": [
    "### 作业"
   ]
  },
  {
   "cell_type": "markdown",
   "metadata": {
    "cellType": "markdown",
    "uuid": "9162be8d-789e-4ff7-bc6f-29efba68bad9"
   },
   "source": [
    "#### 假设字符3750，字符900和字符648是句子的标点符号，请分析赛题每篇新闻平均由多少个句子构成？"
   ]
  },
  {
   "cell_type": "code",
   "execution_count": 34,
   "metadata": {
    "uuid": "62fbaaf1-9950-4213-96f7-41ecee4ee0ce"
   },
   "outputs": [],
   "source": [
    "def count_func(text):\n",
    "    word_list = text.split(\" \")\n",
    "    res = 0\n",
    "    for word in word_list:\n",
    "        if word=='3570' or word == '900' or word =='648':\n",
    "            res += 1\n",
    "    return res"
   ]
  },
  {
   "cell_type": "code",
   "execution_count": 35,
   "metadata": {
    "uuid": "3396575a-78cb-425f-8edb-9d9c85bf8419"
   },
   "outputs": [],
   "source": [
    "train_df['sentence_count'] = train_df['text'].apply(lambda x:count_func(x))"
   ]
  },
  {
   "cell_type": "code",
   "execution_count": 37,
   "metadata": {
    "uuid": "460b8b25-5fbf-4b7c-b3f5-09ea9fe43686"
   },
   "outputs": [
    {
     "data": {
      "text/html": [
       "<div>\n",
       "<style scoped>\n",
       "    .dataframe tbody tr th:only-of-type {\n",
       "        vertical-align: middle;\n",
       "    }\n",
       "\n",
       "    .dataframe tbody tr th {\n",
       "        vertical-align: top;\n",
       "    }\n",
       "\n",
       "    .dataframe thead th {\n",
       "        text-align: right;\n",
       "    }\n",
       "</style>\n",
       "<table border=\"1\" class=\"dataframe\">\n",
       "  <thead>\n",
       "    <tr style=\"text-align: right;\">\n",
       "      <th></th>\n",
       "      <th>label</th>\n",
       "      <th>text</th>\n",
       "      <th>text_len</th>\n",
       "      <th>sentence_count</th>\n",
       "    </tr>\n",
       "  </thead>\n",
       "  <tbody>\n",
       "    <tr>\n",
       "      <th>0</th>\n",
       "      <td>2</td>\n",
       "      <td>2967 6758 339 2021 1854 3731 4109 3792 4149 15...</td>\n",
       "      <td>1057</td>\n",
       "      <td>54</td>\n",
       "    </tr>\n",
       "    <tr>\n",
       "      <th>1</th>\n",
       "      <td>11</td>\n",
       "      <td>4464 486 6352 5619 2465 4802 1452 3137 5778 54...</td>\n",
       "      <td>486</td>\n",
       "      <td>25</td>\n",
       "    </tr>\n",
       "    <tr>\n",
       "      <th>2</th>\n",
       "      <td>3</td>\n",
       "      <td>7346 4068 5074 3747 5681 6093 1777 2226 7354 6...</td>\n",
       "      <td>764</td>\n",
       "      <td>21</td>\n",
       "    </tr>\n",
       "    <tr>\n",
       "      <th>3</th>\n",
       "      <td>2</td>\n",
       "      <td>7159 948 4866 2109 5520 2490 211 3956 5520 549...</td>\n",
       "      <td>1570</td>\n",
       "      <td>71</td>\n",
       "    </tr>\n",
       "    <tr>\n",
       "      <th>4</th>\n",
       "      <td>3</td>\n",
       "      <td>3646 3055 3055 2490 4659 6065 3370 5814 2465 5...</td>\n",
       "      <td>307</td>\n",
       "      <td>17</td>\n",
       "    </tr>\n",
       "  </tbody>\n",
       "</table>\n",
       "</div>"
      ],
      "text/plain": [
       "   label                                               text  text_len  \\\n",
       "0      2  2967 6758 339 2021 1854 3731 4109 3792 4149 15...      1057   \n",
       "1     11  4464 486 6352 5619 2465 4802 1452 3137 5778 54...       486   \n",
       "2      3  7346 4068 5074 3747 5681 6093 1777 2226 7354 6...       764   \n",
       "3      2  7159 948 4866 2109 5520 2490 211 3956 5520 549...      1570   \n",
       "4      3  3646 3055 3055 2490 4659 6065 3370 5814 2465 5...       307   \n",
       "\n",
       "   sentence_count  \n",
       "0              54  \n",
       "1              25  \n",
       "2              21  \n",
       "3              71  \n",
       "4              17  "
      ]
     },
     "execution_count": 37,
     "metadata": {},
     "output_type": "execute_result"
    }
   ],
   "source": [
    "train_df.head()"
   ]
  },
  {
   "cell_type": "code",
   "execution_count": 38,
   "metadata": {
    "uuid": "4eb971f0-33d0-4d19-93ac-c51dc4788626"
   },
   "outputs": [
    {
     "data": {
      "text/plain": [
       "Text(0.5, 1.0, 'Histogram of Sentence count')"
      ]
     },
     "execution_count": 38,
     "metadata": {},
     "output_type": "execute_result"
    },
    {
     "data": {
      "image/png": "[encoded data removed]",
      "text/plain": [
       "<Figure size 432x288 with 1 Axes>"
      ]
     },
     "metadata": {
      "needs_background": "light"
     },
     "output_type": "display_data"
    }
   ],
   "source": [
    "plt.hist(train_df['sentence_count'],bins=50)\n",
    "plt.xlabel('Sentence count')\n",
    "plt.title(\"Histogram of Sentence count\")"
   ]
  },
  {
   "cell_type": "markdown",
   "metadata": {
    "cellType": "markdown",
    "uuid": "0c53888f-a980-4ba9-9f91-b35335631ee8"
   },
   "source": [
    "####  统计每类新闻中出现次数对多的字符"
   ]
  },
  {
   "cell_type": "code",
   "execution_count": 39,
   "metadata": {
    "uuid": "429ea9a2-eb5d-4849-8ec4-4d548b9ebb98"
   },
   "outputs": [],
   "source": [
    "train_gby = train_df.groupby('label')"
   ]
  },
  {
   "cell_type": "code",
   "execution_count": 56,
   "metadata": {
    "uuid": "d99be993-1824-4783-9524-f157ba118f58"
   },
   "outputs": [],
   "source": [
    "train_gby0 = train_gby.get_group(0)\n",
    "train_gby1 = train_gby.get_group(1)\n",
    "train_gby2 = train_gby.get_group(2)\n",
    "train_gby3 = train_gby.get_group(3)\n",
    "train_gby4 = train_gby.get_group(4)\n",
    "train_gby5 = train_gby.get_group(5)\n",
    "train_gby6 = train_gby.get_group(6)\n",
    "train_gby7 = train_gby.get_group(7)\n",
    "train_gby8 = train_gby.get_group(8)\n",
    "train_gby9 = train_gby.get_group(9)\n",
    "train_gby10 = train_gby.get_group(10)\n",
    "train_gby11 = train_gby.get_group(11)\n",
    "train_gby12 = train_gby.get_group(12)\n",
    "train_gby13 = train_gby.get_group(13)"
   ]
  },
  {
   "cell_type": "code",
   "execution_count": 57,
   "metadata": {
    "uuid": "5197796a-d45b-478f-8fa0-51eae5c06f0c"
   },
   "outputs": [],
   "source": [
    "def count_word(train_gby_ele):\n",
    "    all_lines = ' '.join(list(train_gby_ele['text']))\n",
    "    word_count = Counter(all_lines.split(\" \"))\n",
    "    # reverse = True 降序 \n",
    "    word_count = sorted(word_count.items(),key= lambda d:d[1],reverse = True)\n",
    "    print(word_count[0])"
   ]
  },
  {
   "cell_type": "code",
   "execution_count": 60,
   "metadata": {
    "uuid": "81db9c78-edb3-4be3-8fbf-824f2dc226e7"
   },
   "outputs": [
    {
     "name": "stdout",
     "output_type": "stream",
     "text": [
      "label: 0\n",
      "('3750', 37479)\n",
      "label: 1\n",
      "('3750', 36209)\n",
      "label: 2\n",
      "('3750', 40535)\n",
      "label: 3\n",
      "('3750', 21474)\n",
      "label: 4\n",
      "('3750', 10286)\n",
      "label: 5\n",
      "('3750', 19871)\n",
      "label: 6\n",
      "('3750', 13938)\n",
      "label: 7\n",
      "('3750', 11660)\n",
      "label: 8\n",
      "('3750', 8005)\n",
      "label: 9\n",
      "('3750', 5009)\n",
      "label: 10\n",
      "('3750', 4952)\n",
      "label: 11\n",
      "('3750', 2371)\n",
      "label: 12\n",
      "('3750', 3178)\n",
      "label: 13\n",
      "('3750', 1140)\n"
     ]
    }
   ],
   "source": [
    "for i in range(14):\n",
    "    print(\"label:\",i)\n",
    "    train_gby_item = train_gby.get_group(i)\n",
    "    count_word(train_gby_item)"
   ]
  },
  {
   "cell_type": "code",
   "execution_count": null,
   "metadata": {
    "uuid": "1cce6e5f-9448-4997-a226-2c11835ad8e8"
   },
   "outputs": [],
   "source": []
  }
 ],
 "metadata": {
  "kernelspec": {
   "display_name": "Python [conda env:pytorch_gpu]",
   "language": "python",
   "name": "conda-env-pytorch_gpu-py"
  },
  "language_info": {
   "codemirror_mode": {
    "name": "ipython",
    "version": 3
   },
   "file_extension": ".py",
   "mimetype": "text/x-python",
   "name": "python",
   "nbconvert_exporter": "python",
   "pygments_lexer": "ipython3",
   "version": "3.7.6"
  }
 },
 "nbformat": 4,
 "nbformat_minor": 4
}
