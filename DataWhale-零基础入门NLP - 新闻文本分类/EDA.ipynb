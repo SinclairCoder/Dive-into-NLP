{
 "cells": [
  {
   "cell_type": "code",
   "execution_count": 1,
   "metadata": {
    "uuid": "6e50cfc9-e9d7-41ed-8ee2-92e4b807f322"
   },
   "outputs": [],
   "source": [
    "import numpy as np\n",
    "import pandas as pd\n",
    "import matplotlib.pyplot as plt\n",
    "from collections import Counter"
   ]
  },
  {
   "cell_type": "code",
   "execution_count": 2,
   "metadata": {
    "uuid": "b639c0fc-46fa-4327-b898-0cd547b7760d"
   },
   "outputs": [],
   "source": [
    "train_df = pd.read_csv('train_set.csv',sep='\\t')"
   ]
  },
  {
   "cell_type": "code",
   "execution_count": 3,
   "metadata": {
    "uuid": "bd66c8ef-7cb5-47f3-aa4b-c5c002b636bb"
   },
   "outputs": [
    {
     "data": {
      "text/plain": [
       "(200000, 2)"
      ]
     },
     "execution_count": 3,
     "metadata": {},
     "output_type": "execute_result"
    }
   ],
   "source": [
    "train_df.shape"
   ]
  },
  {
   "cell_type": "code",
   "execution_count": 4,
   "metadata": {
    "uuid": "0788b502-be15-41cc-8cea-f4826c0665f1"
   },
   "outputs": [
    {
     "data": {
      "text/html": [
       "<div>\n",
       "<style scoped>\n",
       "    .dataframe tbody tr th:only-of-type {\n",
       "        vertical-align: middle;\n",
       "    }\n",
       "\n",
       "    .dataframe tbody tr th {\n",
       "        vertical-align: top;\n",
       "    }\n",
       "\n",
       "    .dataframe thead th {\n",
       "        text-align: right;\n",
       "    }\n",
       "</style>\n",
       "<table border=\"1\" class=\"dataframe\">\n",
       "  <thead>\n",
       "    <tr style=\"text-align: right;\">\n",
       "      <th></th>\n",
       "      <th>label</th>\n",
       "      <th>text</th>\n",
       "    </tr>\n",
       "  </thead>\n",
       "  <tbody>\n",
       "    <tr>\n",
       "      <th>0</th>\n",
       "      <td>2</td>\n",
       "      <td>2967 6758 339 2021 1854 3731 4109 3792 4149 15...</td>\n",
       "    </tr>\n",
       "    <tr>\n",
       "      <th>1</th>\n",
       "      <td>11</td>\n",
       "      <td>4464 486 6352 5619 2465 4802 1452 3137 5778 54...</td>\n",
       "    </tr>\n",
       "    <tr>\n",
       "      <th>2</th>\n",
       "      <td>3</td>\n",
       "      <td>7346 4068 5074 3747 5681 6093 1777 2226 7354 6...</td>\n",
       "    </tr>\n",
       "    <tr>\n",
       "      <th>3</th>\n",
       "      <td>2</td>\n",
       "      <td>7159 948 4866 2109 5520 2490 211 3956 5520 549...</td>\n",
       "    </tr>\n",
       "    <tr>\n",
       "      <th>4</th>\n",
       "      <td>3</td>\n",
       "      <td>3646 3055 3055 2490 4659 6065 3370 5814 2465 5...</td>\n",
       "    </tr>\n",
       "  </tbody>\n",
       "</table>\n",
       "</div>"
      ],
      "text/plain": [
       "   label                                               text\n",
       "0      2  2967 6758 339 2021 1854 3731 4109 3792 4149 15...\n",
       "1     11  4464 486 6352 5619 2465 4802 1452 3137 5778 54...\n",
       "2      3  7346 4068 5074 3747 5681 6093 1777 2226 7354 6...\n",
       "3      2  7159 948 4866 2109 5520 2490 211 3956 5520 549...\n",
       "4      3  3646 3055 3055 2490 4659 6065 3370 5814 2465 5..."
      ]
     },
     "execution_count": 4,
     "metadata": {},
     "output_type": "execute_result"
    }
   ],
   "source": [
    "train_df.head()"
   ]
  },
  {
   "cell_type": "code",
   "execution_count": 5,
   "metadata": {
    "uuid": "ec6c8553-409c-46f6-ab14-18de5de36071"
   },
   "outputs": [
    {
     "name": "stdout",
     "output_type": "stream",
     "text": [
      "count    200000.000000\n",
      "mean        907.207110\n",
      "std         996.029036\n",
      "min           2.000000\n",
      "25%         374.000000\n",
      "50%         676.000000\n",
      "75%        1131.000000\n",
      "max       57921.000000\n",
      "Name: text_len, dtype: float64\n"
     ]
    }
   ],
   "source": [
    "train_df['text_len'] = train_df['text'].apply(lambda x:len(x.split(' ')))\n",
    "print(train_df['text_len'].describe())"
   ]
  },
  {
   "cell_type": "code",
   "execution_count": 6,
   "metadata": {
    "uuid": "0eee4a7f-29a5-4137-af00-fdce6c72a678"
   },
   "outputs": [
    {
     "data": {
      "text/plain": [
       "Text(0.5, 1.0, 'Histogram of char count')"
      ]
     },
     "execution_count": 6,
     "metadata": {},
     "output_type": "execute_result"
    },
    {
     "data": {
      "image/png": "[encoded data removed]",
      "text/plain": [
       "<Figure size 432x288 with 1 Axes>"
      ]
     },
     "metadata": {
      "needs_background": "light"
     },
     "output_type": "display_data"
    }
   ],
   "source": [
    "plt.hist(train_df['text_len'],bins=50)\n",
    "plt.xlabel('Text char count')\n",
    "plt.title(\"Histogram of char count\")"
   ]
  },
  {
   "cell_type": "code",
   "execution_count": 7,
   "metadata": {
    "uuid": "75950198-be21-4af8-aa27-1d9d847ddbc7"
   },
   "outputs": [
    {
     "data": {
      "text/plain": [
       "<matplotlib.axes._subplots.AxesSubplot at 0x7fcb31d34390>"
      ]
     },
     "execution_count": 7,
     "metadata": {},
     "output_type": "execute_result"
    },
    {
     "data": {
      "image/png": "[encoded data removed]",
      "text/plain": [
       "<Figure size 432x288 with 1 Axes>"
      ]
     },
     "metadata": {
      "needs_background": "light"
     },
     "output_type": "display_data"
    }
   ],
   "source": [
    "train_df['label'].value_counts().plot(kind='bar')"
   ]
  },
  {
   "cell_type": "code",
   "execution_count": 25,
   "metadata": {
    "uuid": "9a5ec06e-ef58-4cf9-be03-57168bb8ea11"
   },
   "outputs": [],
   "source": [
    "all_lines = ' '.join(list(train_df['text']))\n",
    "word_count = Counter(all_lines.split(\" \"))\n",
    "# reverse = True 降序 \n",
    "word_count = sorted(word_count.items(),key= lambda d:d[1],reverse = True)"
   ]
  },
  {
   "cell_type": "code",
   "execution_count": 26,
   "metadata": {
    "uuid": "af058995-ed80-4560-86a0-b0ae6a3c45b7"
   },
   "outputs": [
    {
     "data": {
      "text/plain": [
       "[('3750', 216107),\n",
       " ('648', 140549),\n",
       " ('900', 93683),\n",
       " ('3370', 56552),\n",
       " ('6122', 46538),\n",
       " ('4464', 43158),\n",
       " ('7399', 41280),\n",
       " ('4939', 39397),\n",
       " ('3659', 34566),\n",
       " ('4811', 33071)]"
      ]
     },
     "execution_count": 26,
     "metadata": {},
     "output_type": "execute_result"
    }
   ],
   "source": [
    "word_count[:10]"
   ]
  },
  {
   "cell_type": "markdown",
   "metadata": {
    "cellType": "markdown",
    "uuid": "c17deb6a-e914-4265-9b2e-6c17e98d07a2"
   },
   "source": [
    "这里还可以根据字在每个句子的出现情况，反推出标点符号。下面代码统计了不同字符在句子中出现的次数，其中字符3750，字符900和字符648在20w新闻的覆盖率接近99%，很有可能是标点符号。"
   ]
  },
  {
   "cell_type": "markdown",
   "metadata": {
    "cellType": "markdown",
    "uuid": "bbd594f8-7b68-4100-9ba8-3fcdc592eab0"
   },
   "source": [
    "### 作业"
   ]
  },
  {
   "cell_type": "markdown",
   "metadata": {
    "cellType": "markdown",
    "uuid": "19f2cd76-d17e-42bf-a02b-5a8cff934728"
   },
   "source": [
    "#### 假设字符3750，字符900和字符648是句子的标点符号，请分析赛题每篇新闻平均由多少个句子构成？"
   ]
  },
  {
   "cell_type": "code",
   "execution_count": 8,
   "metadata": {
    "uuid": "e0d1fa25-144a-49e1-9a57-9256e28f0e17"
   },
   "outputs": [],
   "source": [
    "def count_func(text):\n",
    "    word_list = text.split(\" \")\n",
    "    res = 0\n",
    "    for word in word_list:\n",
    "        if word=='3570' or word == '900' or word =='648':\n",
    "            res += 1\n",
    "    return res"
   ]
  },
  {
   "cell_type": "code",
   "execution_count": 9,
   "metadata": {
    "uuid": "917d2c98-4b1a-4a83-99d5-669b976ad0ab"
   },
   "outputs": [],
   "source": [
    "train_df['sentence_count'] = train_df['text'].apply(lambda x:count_func(x))"
   ]
  },
  {
   "cell_type": "code",
   "execution_count": 11,
   "metadata": {
    "uuid": "98bcaec9-eb1b-426a-96e4-00c9e230b6b1"
   },
   "outputs": [
    {
     "data": {
      "text/plain": [
       "40.939545"
      ]
     },
     "execution_count": 11,
     "metadata": {},
     "output_type": "execute_result"
    }
   ],
   "source": [
    "train_df['sentence_count'].mean()"
   ]
  },
  {
   "cell_type": "code",
   "execution_count": 12,
   "metadata": {
    "uuid": "a0adc092-8357-488c-8a8c-fd0b525f2b26"
   },
   "outputs": [
    {
     "data": {
      "text/plain": [
       "Text(0.5, 1.0, 'Histogram of Sentence count')"
      ]
     },
     "execution_count": 12,
     "metadata": {},
     "output_type": "execute_result"
    },
    {
     "data": {
      "image/png": "[encoded data removed]",
      "text/plain": [
       "<Figure size 432x288 with 1 Axes>"
      ]
     },
     "metadata": {
      "needs_background": "light"
     },
     "output_type": "display_data"
    }
   ],
   "source": [
    "plt.hist(train_df['sentence_count'],bins=50)\n",
    "plt.xlabel('Sentence count')\n",
    "plt.title(\"Histogram of Sentence count\")"
   ]
  },
  {
   "cell_type": "markdown",
   "metadata": {
    "cellType": "markdown",
    "uuid": "bd9d2e7f-d819-4a37-ac03-ae7ac38340fb"
   },
   "source": [
    "####  统计每类新闻中出现次数对多的字符"
   ]
  },
  {
   "cell_type": "code",
   "execution_count": 13,
   "metadata": {
    "uuid": "8298e6f0-1585-45e9-8f34-113f4035495d"
   },
   "outputs": [],
   "source": [
    "train_gby = train_df.groupby('label')"
   ]
  },
  {
   "cell_type": "code",
   "execution_count": 56,
   "metadata": {
    "uuid": "42c710f9-f132-4556-8de9-e22028dda1b9"
   },
   "outputs": [],
   "source": [
    "train_gby0 = train_gby.get_group(0)\n",
    "train_gby1 = train_gby.get_group(1)\n",
    "train_gby2 = train_gby.get_group(2)\n",
    "train_gby3 = train_gby.get_group(3)\n",
    "train_gby4 = train_gby.get_group(4)\n",
    "train_gby5 = train_gby.get_group(5)\n",
    "train_gby6 = train_gby.get_group(6)\n",
    "train_gby7 = train_gby.get_group(7)\n",
    "train_gby8 = train_gby.get_group(8)\n",
    "train_gby9 = train_gby.get_group(9)\n",
    "train_gby10 = train_gby.get_group(10)\n",
    "train_gby11 = train_gby.get_group(11)\n",
    "train_gby12 = train_gby.get_group(12)\n",
    "train_gby13 = train_gby.get_group(13)"
   ]
  },
  {
   "cell_type": "code",
   "execution_count": 14,
   "metadata": {
    "uuid": "b4bdfde6-0b11-48bc-990a-0274cab6cee0"
   },
   "outputs": [],
   "source": [
    "def count_word(train_gby_ele):\n",
    "    all_lines = ' '.join(list(train_gby_ele['text']))\n",
    "    word_count = Counter(all_lines.split(\" \"))\n",
    "    # reverse = True 降序 \n",
    "    word_count = sorted(word_count.items(),key= lambda d:d[1],reverse = True)\n",
    "    print(word_count[0])"
   ]
  },
  {
   "cell_type": "code",
   "execution_count": 15,
   "metadata": {
    "uuid": "fdc8247c-3306-40b4-b068-4aa5d57d0453"
   },
   "outputs": [
    {
     "name": "stdout",
     "output_type": "stream",
     "text": [
      "label: 0\n",
      "('3750', 1267331)\n",
      "label: 1\n",
      "('3750', 1200686)\n",
      "label: 2\n",
      "('3750', 1458331)\n",
      "label: 3\n",
      "('3750', 774668)\n",
      "label: 4\n",
      "('3750', 360839)\n",
      "label: 5\n",
      "('3750', 715740)\n",
      "label: 6\n",
      "('3750', 469540)\n",
      "label: 7\n",
      "('3750', 428638)\n",
      "label: 8\n",
      "('3750', 242367)\n",
      "label: 9\n",
      "('3750', 178783)\n",
      "label: 10\n",
      "('3750', 180259)\n",
      "label: 11\n",
      "('3750', 83834)\n",
      "label: 12\n",
      "('3750', 87412)\n",
      "label: 13\n",
      "('3750', 33796)\n"
     ]
    }
   ],
   "source": [
    "for i in range(14):\n",
    "    print(\"label:\",i)\n",
    "    train_gby_item = train_gby.get_group(i)\n",
    "    count_word(train_gby_item)"
   ]
  },
  {
   "cell_type": "code",
   "execution_count": null,
   "metadata": {
    "uuid": "34c59b06-d965-4ef0-96a8-819f958e1312"
   },
   "outputs": [],
   "source": []
  }
 ],
 "metadata": {
  "kernelspec": {
   "display_name": "Python 3",
   "language": "python",
   "name": "python3"
  },
  "language_info": {
   "codemirror_mode": {
    "name": "ipython",
    "version": 3
   },
   "file_extension": ".py",
   "mimetype": "text/x-python",
   "name": "python",
   "nbconvert_exporter": "python",
   "pygments_lexer": "ipython3",
   "version": "3.6.4"
  }
 },
 "nbformat": 4,
 "nbformat_minor": 4
}
