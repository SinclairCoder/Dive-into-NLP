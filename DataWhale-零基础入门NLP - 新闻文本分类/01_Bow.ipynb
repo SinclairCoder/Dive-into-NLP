{
  "nbformat": 4,
  "nbformat_minor": 0,
  "metadata": {
    "colab": {
      "name": "01.Bow",
      "provenance": [],
      "collapsed_sections": []
    },
    "kernelspec": {
      "name": "python3",
      "display_name": "Python 3"
    },
    "accelerator": "GPU"
  },
  "cells": [
    {
      "cell_type": "code",
      "metadata": {
        "id": "negIydovEeBe",
        "colab_type": "code",
        "colab": {
          "base_uri": "https://localhost:8080/",
          "height": 34
        },
        "outputId": "830afa74-d8ec-4291-8837-adbbe3f5f61b"
      },
      "source": [
        "from google.colab import drive\n",
        "drive.mount('/content/drive')"
      ],
      "execution_count": 4,
      "outputs": [
        {
          "output_type": "stream",
          "text": [
            "Drive already mounted at /content/drive; to attempt to forcibly remount, call drive.mount(\"/content/drive\", force_remount=True).\n"
          ],
          "name": "stdout"
        }
      ]
    },
    {
      "cell_type": "code",
      "metadata": {
        "id": "MVEjyC3EEzue",
        "colab_type": "code",
        "colab": {
          "base_uri": "https://localhost:8080/",
          "height": 50
        },
        "outputId": "e2172031-d726-49c1-98ae-3936ad1281cd"
      },
      "source": [
        "PATH = 'drive/My Drive/DataWhale-零基础入门NLP - 新闻文本分类'\n",
        "%cd drive/My Drive/DataWhale-零基础入门NLP - 新闻文本分类"
      ],
      "execution_count": 5,
      "outputs": [
        {
          "output_type": "stream",
          "text": [
            "[Errno 2] No such file or directory: 'drive/My Drive/DataWhale-零基础入门NLP - 新闻文本分类'\n",
            "/content/drive/My Drive/DataWhale-零基础入门NLP - 新闻文本分类\n"
          ],
          "name": "stdout"
        }
      ]
    },
    {
      "cell_type": "code",
      "metadata": {
        "id": "xqpFZyRqFfyo",
        "colab_type": "code",
        "colab": {}
      },
      "source": [
        "import numpy as np\n",
        "import pandas as pd\n",
        "import matplotlib.pyplot as plt\n",
        "from collections import Counter\n",
        "from sklearn.feature_extraction.text import CountVectorizer\n",
        "from sklearn.model_selection import train_test_split\n",
        "from sklearn.linear_model import RidgeClassifier\n",
        "from sklearn.metrics import f1_score\n",
        "from sklearn.linear_model import LogisticRegression\n",
        "from sklearn.feature_extraction.text import TfidfVectorizer\n",
        "from sklearn.metrics import classification_report\n",
        "from sklearn.model_selection import cross_val_score\n",
        "\n",
        "SEED = 2020"
      ],
      "execution_count": 38,
      "outputs": []
    },
    {
      "cell_type": "code",
      "metadata": {
        "id": "Jc7owavpFiF1",
        "colab_type": "code",
        "colab": {}
      },
      "source": [
        "train_df = pd.read_csv('train_set.csv',sep='\\t',nrows=100000)\n",
        "test_df = pd.read_csv('test_a.csv',sep='\\t')\n",
        "sub_df = pd.read_csv('test_a_sample_submit.csv',sep='\\t')"
      ],
      "execution_count": 13,
      "outputs": []
    },
    {
      "cell_type": "code",
      "metadata": {
        "id": "UPStCvVnF8N_",
        "colab_type": "code",
        "colab": {}
      },
      "source": [
        "train_X,valid_X,train_y,valid_y = train_test_split(train_df['text'],train_df['label'],train_size=0.8,random_state=SEED)"
      ],
      "execution_count": 17,
      "outputs": []
    },
    {
      "cell_type": "code",
      "metadata": {
        "id": "j2jVfHajGplN",
        "colab_type": "code",
        "colab": {
          "base_uri": "https://localhost:8080/",
          "height": 34
        },
        "outputId": "a6d03ed9-208b-4282-ce56-544d65bd2955"
      },
      "source": [
        "train_X.shape"
      ],
      "execution_count": 18,
      "outputs": [
        {
          "output_type": "execute_result",
          "data": {
            "text/plain": [
              "(80000,)"
            ]
          },
          "metadata": {
            "tags": []
          },
          "execution_count": 18
        }
      ]
    },
    {
      "cell_type": "code",
      "metadata": {
        "id": "nQiyZ7QPH0bR",
        "colab_type": "code",
        "colab": {}
      },
      "source": [
        "vectorizer = CountVectorizer(max_features=10000)\n",
        "train_val = vectorizer.fit_transform(train_df['text'])"
      ],
      "execution_count": 20,
      "outputs": []
    },
    {
      "cell_type": "code",
      "metadata": {
        "id": "b2DMa6KvJzlg",
        "colab_type": "code",
        "colab": {
          "base_uri": "https://localhost:8080/",
          "height": 154
        },
        "outputId": "96fc7237-314a-42da-be95-0e97570521bc"
      },
      "source": [
        "clf = LogisticRegression(penalty='l2',solver='sag',class_weight='balanced',multi_class='multinomial',n_jobs=-1)\n",
        "clf.fit(train_val[:80000], train_df['label'].values[:80000])"
      ],
      "execution_count": 25,
      "outputs": [
        {
          "output_type": "stream",
          "text": [
            "/usr/local/lib/python3.6/dist-packages/sklearn/linear_model/_sag.py:330: ConvergenceWarning: The max_iter was reached which means the coef_ did not converge\n",
            "  \"the coef_ did not converge\", ConvergenceWarning)\n"
          ],
          "name": "stderr"
        },
        {
          "output_type": "execute_result",
          "data": {
            "text/plain": [
              "LogisticRegression(C=1.0, class_weight='balanced', dual=False,\n",
              "                   fit_intercept=True, intercept_scaling=1, l1_ratio=None,\n",
              "                   max_iter=100, multi_class='multinomial', n_jobs=-1,\n",
              "                   penalty='l2', random_state=None, solver='sag', tol=0.0001,\n",
              "                   verbose=0, warm_start=False)"
            ]
          },
          "metadata": {
            "tags": []
          },
          "execution_count": 25
        }
      ]
    },
    {
      "cell_type": "code",
      "metadata": {
        "id": "EzItrFZiKStr",
        "colab_type": "code",
        "colab": {
          "base_uri": "https://localhost:8080/",
          "height": 34
        },
        "outputId": "1b95f466-f62b-494e-e151-17d3524cb037"
      },
      "source": [
        "val_pred_count = clf.predict(train_val[80000:])\n",
        "print(f1_score(train_df['label'].values[80000:], val_pred_count, average='macro'))\n",
        "# target_names = ['class 0', 'class 1', 'class 2']\n"
      ],
      "execution_count": 28,
      "outputs": [
        {
          "output_type": "stream",
          "text": [
            "0.7435703966881524\n"
          ],
          "name": "stdout"
        }
      ]
    },
    {
      "cell_type": "code",
      "metadata": {
        "id": "JA-MLB1_Pgb-",
        "colab_type": "code",
        "colab": {
          "base_uri": "https://localhost:8080/",
          "height": 370
        },
        "outputId": "542b6b83-ea33-4101-d829-52b15550db9a"
      },
      "source": [
        "print(classification_report(train_df['label'].values[80000:], val_pred_count)) "
      ],
      "execution_count": 37,
      "outputs": [
        {
          "output_type": "stream",
          "text": [
            "              precision    recall  f1-score   support\n",
            "\n",
            "           0       0.90      0.74      0.81      3935\n",
            "           1       0.88      0.77      0.82      3670\n",
            "           2       0.97      0.92      0.95      3109\n",
            "           3       0.88      0.79      0.83      2260\n",
            "           4       0.70      0.79      0.74      1573\n",
            "           5       0.65      0.86      0.74      1270\n",
            "           6       0.85      0.90      0.88       966\n",
            "           7       0.62      0.85      0.72       835\n",
            "           8       0.76      0.50      0.61       781\n",
            "           9       0.67      0.86      0.76       555\n",
            "          10       0.56      0.89      0.69       473\n",
            "          11       0.48      0.83      0.61       288\n",
            "          12       0.64      0.89      0.74       198\n",
            "          13       0.37      0.92      0.53        87\n",
            "\n",
            "    accuracy                           0.80     20000\n",
            "   macro avg       0.71      0.82      0.74     20000\n",
            "weighted avg       0.83      0.80      0.81     20000\n",
            "\n"
          ],
          "name": "stdout"
        }
      ]
    },
    {
      "cell_type": "code",
      "metadata": {
        "id": "lh5jff6dVK2h",
        "colab_type": "code",
        "colab": {}
      },
      "source": [
        ""
      ],
      "execution_count": null,
      "outputs": []
    },
    {
      "cell_type": "markdown",
      "metadata": {
        "id": "_Sib84rhOYsL",
        "colab_type": "text"
      },
      "source": [
        "## TF-IDF Features"
      ]
    },
    {
      "cell_type": "code",
      "metadata": {
        "id": "NeRnF6vgOeJ8",
        "colab_type": "code",
        "colab": {}
      },
      "source": [
        "tfidf = TfidfVectorizer(ngram_range=(1,3), max_features=10000)\n",
        "train_val = tfidf.fit_transform(train_df['text'])"
      ],
      "execution_count": 31,
      "outputs": []
    },
    {
      "cell_type": "code",
      "metadata": {
        "id": "SibBhrc8Ottx",
        "colab_type": "code",
        "colab": {}
      },
      "source": [
        "clf = LogisticRegression(penalty='l2',solver='sag',class_weight='balanced',multi_class='multinomial',n_jobs=-1)\n",
        "clf.fit(train_val[:80000], train_df['label'].values[:80000])"
      ],
      "execution_count": null,
      "outputs": []
    },
    {
      "cell_type": "code",
      "metadata": {
        "id": "UpnJoCDgQdkz",
        "colab_type": "code",
        "colab": {
          "base_uri": "https://localhost:8080/",
          "height": 34
        },
        "outputId": "438e82b9-8b6b-494c-f330-90b4d44d2b23"
      },
      "source": [
        "val_pred_tfidf = clf.predict(train_val[80000:])\n",
        "print(f1_score(train_df['label'].values[80000:], val_pred_tfidf, average='macro'))"
      ],
      "execution_count": 33,
      "outputs": [
        {
          "output_type": "stream",
          "text": [
            "0.898842235741962\n"
          ],
          "name": "stdout"
        }
      ]
    },
    {
      "cell_type": "code",
      "metadata": {
        "id": "u8sLludYT7Oa",
        "colab_type": "code",
        "colab": {
          "base_uri": "https://localhost:8080/",
          "height": 370
        },
        "outputId": "820c1e9f-11db-4f74-8e91-1974b76fa627"
      },
      "source": [
        "print(classification_report(train_df['label'].values[80000:], val_pred_tfidf)) "
      ],
      "execution_count": 36,
      "outputs": [
        {
          "output_type": "stream",
          "text": [
            "              precision    recall  f1-score   support\n",
            "\n",
            "           0       0.97      0.89      0.93      3935\n",
            "           1       0.95      0.91      0.93      3670\n",
            "           2       0.98      0.97      0.98      3109\n",
            "           3       0.95      0.94      0.94      2260\n",
            "           4       0.86      0.92      0.89      1573\n",
            "           5       0.85      0.90      0.87      1270\n",
            "           6       0.93      0.92      0.93       966\n",
            "           7       0.80      0.91      0.85       835\n",
            "           8       0.90      0.91      0.90       781\n",
            "           9       0.84      0.95      0.89       555\n",
            "          10       0.88      0.93      0.91       473\n",
            "          11       0.75      0.91      0.82       288\n",
            "          12       0.87      0.95      0.91       198\n",
            "          13       0.72      0.97      0.83        87\n",
            "\n",
            "    accuracy                           0.92     20000\n",
            "   macro avg       0.88      0.93      0.90     20000\n",
            "weighted avg       0.93      0.92      0.92     20000\n",
            "\n"
          ],
          "name": "stdout"
        }
      ]
    },
    {
      "cell_type": "code",
      "metadata": {
        "id": "E6CwjOlXUF10",
        "colab_type": "code",
        "colab": {
          "base_uri": "https://localhost:8080/",
          "height": 34
        },
        "outputId": "47f2ee43-f238-4ac8-acf8-0db436a10308"
      },
      "source": [
        "scores = cross_val_score(clf, train_val[80000:] , train_df['label'].values[80000:], cv=5)\n",
        "scores.mean()"
      ],
      "execution_count": 40,
      "outputs": [
        {
          "output_type": "execute_result",
          "data": {
            "text/plain": [
              "0.90625"
            ]
          },
          "metadata": {
            "tags": []
          },
          "execution_count": 40
        }
      ]
    },
    {
      "cell_type": "code",
      "metadata": {
        "id": "7atBBaPQVWSz",
        "colab_type": "code",
        "colab": {
          "base_uri": "https://localhost:8080/",
          "height": 195
        },
        "outputId": "dd378b52-6d51-4e7e-cd8c-07bafb818cd7"
      },
      "source": [
        "test_df.head()"
      ],
      "execution_count": 42,
      "outputs": [
        {
          "output_type": "execute_result",
          "data": {
            "text/html": [
              "<div>\n",
              "<style scoped>\n",
              "    .dataframe tbody tr th:only-of-type {\n",
              "        vertical-align: middle;\n",
              "    }\n",
              "\n",
              "    .dataframe tbody tr th {\n",
              "        vertical-align: top;\n",
              "    }\n",
              "\n",
              "    .dataframe thead th {\n",
              "        text-align: right;\n",
              "    }\n",
              "</style>\n",
              "<table border=\"1\" class=\"dataframe\">\n",
              "  <thead>\n",
              "    <tr style=\"text-align: right;\">\n",
              "      <th></th>\n",
              "      <th>text</th>\n",
              "    </tr>\n",
              "  </thead>\n",
              "  <tbody>\n",
              "    <tr>\n",
              "      <th>0</th>\n",
              "      <td>5399 3117 1070 4321 4568 2621 5466 3772 4516 2...</td>\n",
              "    </tr>\n",
              "    <tr>\n",
              "      <th>1</th>\n",
              "      <td>2491 4109 1757 7539 648 3695 3038 4490 23 7019...</td>\n",
              "    </tr>\n",
              "    <tr>\n",
              "      <th>2</th>\n",
              "      <td>2673 5076 6835 2835 5948 5677 3247 4124 2465 5...</td>\n",
              "    </tr>\n",
              "    <tr>\n",
              "      <th>3</th>\n",
              "      <td>4562 4893 2210 4761 3659 1324 2595 5949 4583 2...</td>\n",
              "    </tr>\n",
              "    <tr>\n",
              "      <th>4</th>\n",
              "      <td>4269 7134 2614 1724 4464 1324 3370 3370 2106 2...</td>\n",
              "    </tr>\n",
              "  </tbody>\n",
              "</table>\n",
              "</div>"
            ],
            "text/plain": [
              "                                                text\n",
              "0  5399 3117 1070 4321 4568 2621 5466 3772 4516 2...\n",
              "1  2491 4109 1757 7539 648 3695 3038 4490 23 7019...\n",
              "2  2673 5076 6835 2835 5948 5677 3247 4124 2465 5...\n",
              "3  4562 4893 2210 4761 3659 1324 2595 5949 4583 2...\n",
              "4  4269 7134 2614 1724 4464 1324 3370 3370 2106 2..."
            ]
          },
          "metadata": {
            "tags": []
          },
          "execution_count": 42
        }
      ]
    },
    {
      "cell_type": "code",
      "metadata": {
        "id": "X5QTSE9TW6qT",
        "colab_type": "code",
        "colab": {}
      },
      "source": [
        "sub_df_X = tfidf.transform(test_df['text'])\n",
        "pred_y = clf.predict(sub_df_X)\n",
        "sub_df['label'] = pred_y"
      ],
      "execution_count": 46,
      "outputs": []
    },
    {
      "cell_type": "code",
      "metadata": {
        "id": "bA2feJAzXYWz",
        "colab_type": "code",
        "colab": {
          "base_uri": "https://localhost:8080/",
          "height": 195
        },
        "outputId": "c2c8b02f-cd36-4f20-83be-282e1e05b24c"
      },
      "source": [
        "sub_df.head()"
      ],
      "execution_count": 47,
      "outputs": [
        {
          "output_type": "execute_result",
          "data": {
            "text/html": [
              "<div>\n",
              "<style scoped>\n",
              "    .dataframe tbody tr th:only-of-type {\n",
              "        vertical-align: middle;\n",
              "    }\n",
              "\n",
              "    .dataframe tbody tr th {\n",
              "        vertical-align: top;\n",
              "    }\n",
              "\n",
              "    .dataframe thead th {\n",
              "        text-align: right;\n",
              "    }\n",
              "</style>\n",
              "<table border=\"1\" class=\"dataframe\">\n",
              "  <thead>\n",
              "    <tr style=\"text-align: right;\">\n",
              "      <th></th>\n",
              "      <th>label</th>\n",
              "    </tr>\n",
              "  </thead>\n",
              "  <tbody>\n",
              "    <tr>\n",
              "      <th>0</th>\n",
              "      <td>1</td>\n",
              "    </tr>\n",
              "    <tr>\n",
              "      <th>1</th>\n",
              "      <td>2</td>\n",
              "    </tr>\n",
              "    <tr>\n",
              "      <th>2</th>\n",
              "      <td>8</td>\n",
              "    </tr>\n",
              "    <tr>\n",
              "      <th>3</th>\n",
              "      <td>5</td>\n",
              "    </tr>\n",
              "    <tr>\n",
              "      <th>4</th>\n",
              "      <td>0</td>\n",
              "    </tr>\n",
              "  </tbody>\n",
              "</table>\n",
              "</div>"
            ],
            "text/plain": [
              "   label\n",
              "0      1\n",
              "1      2\n",
              "2      8\n",
              "3      5\n",
              "4      0"
            ]
          },
          "metadata": {
            "tags": []
          },
          "execution_count": 47
        }
      ]
    },
    {
      "cell_type": "code",
      "metadata": {
        "id": "lYT41IpkY7vs",
        "colab_type": "code",
        "colab": {
          "base_uri": "https://localhost:8080/",
          "height": 285
        },
        "outputId": "59c05acd-9e6b-497c-b9f6-0868d5866d1d"
      },
      "source": [
        "sub_df['label'].value_counts().plot(kind='bar')"
      ],
      "execution_count": 50,
      "outputs": [
        {
          "output_type": "execute_result",
          "data": {
            "text/plain": [
              "<matplotlib.axes._subplots.AxesSubplot at 0x7ff6a3becd30>"
            ]
          },
          "metadata": {
            "tags": []
          },
          "execution_count": 50
        },
        {
          "output_type": "display_data",
          "data": {
            "image/png": "[encoded data removed]",
            "text/plain": [
              "<Figure size 432x288 with 1 Axes>"
            ]
          },
          "metadata": {
            "tags": [],
            "needs_background": "light"
          }
        }
      ]
    },
    {
      "cell_type": "code",
      "metadata": {
        "id": "CYj8mxw9aQ22",
        "colab_type": "code",
        "colab": {}
      },
      "source": [
        "sub_df.to_csv('sub_df.csv',index=False)"
      ],
      "execution_count": 51,
      "outputs": []
    },
    {
      "cell_type": "code",
      "metadata": {
        "id": "KomB988VbEfN",
        "colab_type": "code",
        "colab": {
          "base_uri": "https://localhost:8080/",
          "height": 34
        },
        "outputId": "58a2ea77-d861-427a-923e-63405c8ba50f"
      },
      "source": [
        "1+1\n"
      ],
      "execution_count": 52,
      "outputs": [
        {
          "output_type": "execute_result",
          "data": {
            "text/plain": [
              "2"
            ]
          },
          "metadata": {
            "tags": []
          },
          "execution_count": 52
        }
      ]
    },
    {
      "cell_type": "code",
      "metadata": {
        "id": "SAAsx_wOg-wU",
        "colab_type": "code",
        "colab": {}
      },
      "source": [
        ""
      ],
      "execution_count": null,
      "outputs": []
    }
  ]
}